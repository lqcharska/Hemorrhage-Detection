{
 "cells": [
  {
   "cell_type": "code",
   "execution_count": 81,
   "metadata": {
    "collapsed": true
   },
   "outputs": [],
   "source": [
    "import os\n",
    "import pandas as pd\n",
    "import numpy as np\n",
    "import random\n",
    "import operator\n",
    "from enum import Enum\n",
    "from sklearn.model_selection import train_test_split\n",
    "from sklearn.utils import shuffle\n",
    "from sklearn.model_selection import StratifiedKFold\n",
    "from skimage.feature import local_binary_pattern\n",
    "import nibabel as nib\n",
    "import matplotlib.pyplot as plt\n",
    "from skimage.color import label2rgb\n",
    "from sklearn.pipeline import make_pipeline\n",
    "from sklearn.preprocessing import StandardScaler\n",
    "from sklearn.svm import SVC\n",
    "from sklearn.ensemble import RandomForestClassifier\n",
    "from sklearn.metrics import ConfusionMatrixDisplay"
   ]
  },
  {
   "cell_type": "code",
   "execution_count": 2,
   "outputs": [],
   "source": [
    "TEST_SET_SIZE = 0.3 # 1 - TEST_SET_SIZE (70%) - training set, TEST_SET_SIZE (30%) testing set\n",
    "VAL_SET_SIZE = 0.5  # 50% of testing set, it means\n",
    "                    # TEST_SET_SIZE / 2 (15%) - testing set, TEST_SET_SIZE / 2 (15%) validation set"
   ],
   "metadata": {
    "collapsed": false,
    "pycharm": {
     "name": "#%%\n"
    }
   }
  },
  {
   "cell_type": "code",
   "execution_count": 3,
   "outputs": [],
   "source": [
    "def swap_target(x):\n",
    "    if x == 0:\n",
    "        return 1\n",
    "    else:\n",
    "        return 0\n"
   ],
   "metadata": {
    "collapsed": false,
    "pycharm": {
     "name": "#%%\n"
    }
   }
  },
  {
   "cell_type": "code",
   "execution_count": 4,
   "outputs": [],
   "source": [
    "class DatasetSplittingType(Enum):\n",
    "    kFOLD= 0\n",
    "    TRAIN_TEST = 1\n",
    "    TRAIN_VAL_TEST = 2"
   ],
   "metadata": {
    "collapsed": false,
    "pycharm": {
     "name": "#%%\n"
    }
   }
  },
  {
   "cell_type": "code",
   "execution_count": 5,
   "outputs": [],
   "source": [
    "class HemorrageDataset:\n",
    "    def __init__(self, diagnoseCsvPath, folderPath):\n",
    "        self.__diagnoseCSV = pd.read_csv(diagnoseCsvPath)\n",
    "        self.__pathToWholeFolder = folderPath\n",
    "        self.__trainDataForLoading = []\n",
    "        self.__trainLabelsForLoading = []\n",
    "        self.__testDataForLoading = []\n",
    "        self.__testLabelsForLoading = []\n",
    "        self.__valDataForLoading = []\n",
    "        self.__valLabelsForLoading = []\n",
    "        self.__kFoldDataForLoading = []\n",
    "        self.__kFoldLabelsForLoading = []\n",
    "\n",
    "    def __kFoldSplitting(self, k, sickCases, healthyCases):\n",
    "        healthyLabels = [1 for i in range(len(healthyCases))]\n",
    "        sickLabels = [0 for i in range(len(sickCases))]\n",
    "        allCases = healthyCases + sickCases\n",
    "        allLabels = healthyLabels + sickLabels\n",
    "        allCases, allLabels = shuffle(allCases, allLabels)\n",
    "\n",
    "        skf = StratifiedKFold(n_splits=k, shuffle=True, random_state=1)\n",
    "        for train_index, test_index in skf.split(allCases, allLabels):\n",
    "            trainNumbersFold, testNumbersFold = operator.itemgetter(*train_index)(allCases), operator.itemgetter(*test_index)(allCases)\n",
    "            trainData, trainLabels = self.__prepareDataSavingPatienNumberAndSlice(trainNumbersFold)\n",
    "            testData, testLabels = self.__prepareDataSavingPatienNumberAndSlice(testNumbersFold)\n",
    "            self.__kFoldDataForLoading.append([trainData, testData])\n",
    "            self.__kFoldLabelsForLoading.append([trainLabels, testLabels])\n",
    "\n",
    "\n",
    "    def __subsetSplitting(self, sickCases, healthyCases):\n",
    "        trainHealthyPatientsNumbers, testHealthyPatientsNumbers = train_test_split(healthyCases, test_size=TEST_SET_SIZE,random_state=25, shuffle=True)\n",
    "        testHealthyPatientsNumbers, valHealthyPatientsNumbers = train_test_split(testHealthyPatientsNumbers, test_size=VAL_SET_SIZE,random_state=25, shuffle=True)\n",
    "        trainSickPatientsNumbers, testSickPatientsNumbers = train_test_split(sickCases, test_size=TEST_SET_SIZE,random_state=25, shuffle=True)\n",
    "        testSickPatientsNumbers, valSickPatientsNumbers = train_test_split(testSickPatientsNumbers, test_size=VAL_SET_SIZE,random_state=25, shuffle=True)\n",
    "\n",
    "        trainCases = trainHealthyPatientsNumbers + trainSickPatientsNumbers\n",
    "        trainCases = random.sample(trainCases, len(trainCases))\n",
    "        testCases = testHealthyPatientsNumbers + testSickPatientsNumbers\n",
    "        testCases = random.sample(testCases, len(testCases))\n",
    "        valCases = valHealthyPatientsNumbers + valSickPatientsNumbers\n",
    "        valCases = random.sample(valCases, len(valCases))\n",
    "        return trainCases, testCases, valCases\n",
    "\n",
    "    def __distinquishHealthyAndSickCases(self):\n",
    "        sickCases = []\n",
    "        healthyCases = []\n",
    "        for patientNum in np.unique(self.__diagnoseCSV['PatientNumber']):\n",
    "            isSick = self.__diagnoseCSV[(self.__diagnoseCSV['PatientNumber'] == patientNum)].Has_Hemorrhage.sum()\n",
    "            if isSick > 0:\n",
    "                sickCases.append(patientNum)\n",
    "            else:\n",
    "                healthyCases.append(patientNum)\n",
    "\n",
    "        return healthyCases, sickCases\n",
    "\n",
    "    def __prepareDataSavingPatienNumberAndSlice(self, chosenSet):\n",
    "        data = []\n",
    "        labels = []\n",
    "        for patientNum in chosenSet:\n",
    "            for sliceNum in np.unique(self.__diagnoseCSV.loc[(self.__diagnoseCSV['PatientNumber'] == patientNum)]['SliceNumber']):\n",
    "                diagnose = self.__diagnoseCSV.loc[(self.__diagnoseCSV['PatientNumber'] == patientNum)\n",
    "                                        & (self.__diagnoseCSV['SliceNumber'] == sliceNum)]['Has_Hemorrhage'].values[0]\n",
    "                data.append((patientNum, sliceNum))\n",
    "                labels.append(diagnose)\n",
    "\n",
    "        return data, labels\n",
    "\n",
    "    def splitDatasetBasedOnPatientsCases(self, splittingType, kFold = 0):\n",
    "         healthyPatientsNumbers, sickPatientsNumbers = self.__distinquishHealthyAndSickCases()\n",
    "\n",
    "         if(splittingType == DatasetSplittingType.kFOLD):\n",
    "             self.__kFoldSplitting(kFold, sickPatientsNumbers, healthyPatientsNumbers)\n",
    "         elif ((splittingType == DatasetSplittingType.TRAIN_VAL_TEST) or (splittingType == DatasetSplittingType.TRAIN_TEST)):\n",
    "             trainSubset, testSubset, valSubset = self.__subsetSplitting(sickPatientsNumbers, healthyPatientsNumbers)\n",
    "             self.__trainDataForLoading, self.__trainLabelsForLoading = self.__prepareDataSavingPatienNumberAndSlice(trainSubset)\n",
    "             self.__testDataForLoading, self.__testLabelsForLoading = self.__prepareDataSavingPatienNumberAndSlice(testSubset)\n",
    "             self.__valDataForLoading, self.__valLabelsForLoading = self.__prepareDataSavingPatienNumberAndSlice(valSubset)\n",
    "\n",
    "             if(splittingType == DatasetSplittingType.TRAIN_TEST):\n",
    "                 self.__testDataForLoading += self.__valDataForLoading\n",
    "                 self.__testLabelsForLoading += self.__valLabelsForLoading\n",
    "                 self.__valDataForLoading = []\n",
    "                 self.__valLabelsForLoading= []\n",
    "\n",
    "    def removeRecordFromDataset(self, patientNum, sliceNumber):\n",
    "        # Remove corrupted images or with missing brain/bone windowed images\n",
    "        index_to_drop = self.__diagnoseCSV[(self.__diagnoseCSV['PatientNumber'] == patientNum) & (self.__diagnoseCSV['SliceNumber'] == sliceNumber)].index\n",
    "        index_to_drop = index_to_drop[0]\n",
    "        self.__diagnoseCSV = self.__diagnoseCSV.drop(index_to_drop, axis=0)\n",
    "\n",
    "\n",
    "    def invertBinaryValues(self, colToChangeAndRemove, newCol):\n",
    "        self.__diagnoseCSV[newCol] = self.__diagnoseCSV[colToChangeAndRemove].apply(swap_target)\n",
    "        self.__diagnoseCSV = self.__diagnoseCSV.drop(colToChangeAndRemove, axis=1)\n",
    "\n",
    "    def get_trainDataWithLabels(self):\n",
    "        return self.__trainDataForLoading, self.__trainLabelsForLoading\n",
    "\n",
    "    def get_testDataWithLabels(self):\n",
    "        return self.__testDataForLoading, self.__testLabelsForLoading\n",
    "\n",
    "    def get_valDataWithLabels(self):\n",
    "        return self.__valDataForLoading, self.__valLabelsForLoading\n",
    "\n",
    "    def get_kFoldDataWithLabels(self):\n",
    "        return self.__kFoldDataForLoading, self.__kFoldLabelsForLoading"
   ],
   "metadata": {
    "collapsed": false,
    "pycharm": {
     "name": "#%%\n"
    }
   }
  },
  {
   "cell_type": "code",
   "execution_count": 6,
   "outputs": [],
   "source": [
    "# Create class for ml method - load images, preprocess, choose method and fit model\n",
    "# another class for statistic and visualization -> acces private property: self._Parent__private(), self.__demographyCSV = pd.read_csv(demographyCsvPath)\n",
    "# generator for all\n",
    "# for imbalanced dataset: https://machinelearningmastery.com/cost-sensitive-svm-for-imbalanced-classification/"
   ],
   "metadata": {
    "collapsed": false,
    "pycharm": {
     "name": "#%%\n"
    }
   }
  },
  {
   "cell_type": "code",
   "execution_count": 7,
   "outputs": [],
   "source": [
    "basePath  = os.path.join(os.getcwd(), \"data\")\n",
    "csvPath = os.path.join(basePath, \"hemorrhage_diagnosis_raw_ct.csv\")\n",
    "dataset = HemorrageDataset(csvPath, basePath)"
   ],
   "metadata": {
    "collapsed": false,
    "pycharm": {
     "name": "#%%\n"
    }
   }
  },
  {
   "cell_type": "code",
   "execution_count": 8,
   "outputs": [],
   "source": [
    "# Prepare csv file\n",
    "dataset.removeRecordFromDataset(84, 36)\n",
    "dataset.invertBinaryValues('No_Hemorrhage', 'Has_Hemorrhage')"
   ],
   "metadata": {
    "collapsed": false,
    "pycharm": {
     "name": "#%%\n"
    }
   }
  },
  {
   "cell_type": "code",
   "execution_count": 9,
   "outputs": [],
   "source": [
    "# Split dataset using chosen method\n",
    "dataset.splitDatasetBasedOnPatientsCases(DatasetSplittingType.TRAIN_VAL_TEST)\n",
    "trainData, trainLabels = dataset.get_trainDataWithLabels()\n",
    "testData, testLabels = dataset.get_testDataWithLabels()\n",
    "valData, valLabels = dataset.get_valDataWithLabels()\n",
    "dataset.splitDatasetBasedOnPatientsCases(DatasetSplittingType.kFOLD, 10)\n",
    "kfoldData, kfoldLabel = dataset.get_kFoldDataWithLabels()"
   ],
   "metadata": {
    "collapsed": false,
    "pycharm": {
     "name": "#%%\n"
    }
   }
  },
  {
   "cell_type": "code",
   "execution_count": null,
   "outputs": [],
   "source": [
    "class LocalBinaryPattern:\n",
    "    \"\"\"\n",
    "    Class handling everything connected to Local Binary Pattern\n",
    "    \"\"\"\n",
    "    def __init__(self, image):\n",
    "        self.radius = 3\n",
    "        self.n_points = 8 * self.radius\n",
    "        self.method = \"uniform\"\n",
    "        self.image = image\n",
    "\n",
    "    def overlay_labels(self, label=None):\n",
    "        \"\"\"\n",
    "        Return rgb image with local binary pattern mask\n",
    "\n",
    "        Parameters\n",
    "        ----------\n",
    "        label\n",
    "\n",
    "        Returns\n",
    "        -------\n",
    "\n",
    "        \"\"\"\n",
    "        if label is None:\n",
    "            _, label, _ = self.set_labels()\n",
    "        lbp = self.calculate_LBP()\n",
    "        mask = np.logical_or.reduce([lbp == each for each in label])\n",
    "        return label2rgb(mask, image=self.image, bg_label=0, alpha=0.5)\n",
    "\n",
    "    @staticmethod\n",
    "    def highlight_bars(bars, indexes):\n",
    "        \"\"\"\n",
    "        Highlight bars in histogram plot\n",
    "\n",
    "        Parameters\n",
    "        ----------\n",
    "        bars\n",
    "        indexes\n",
    "\n",
    "        Returns\n",
    "        -------\n",
    "\n",
    "        \"\"\"\n",
    "        for i in indexes:\n",
    "            bars[i].set_facecolor('r')\n",
    "\n",
    "    def calculate_LBP(self):\n",
    "        \"\"\"\n",
    "        Calculate local binary pattern\n",
    "        Returns\n",
    "        -------\n",
    "\n",
    "        \"\"\"\n",
    "        return local_binary_pattern(self.image.astype(int), self.n_points, self.radius, self.method)\n",
    "\n",
    "    def hist(self, ax):\n",
    "        \"\"\"\n",
    "        Create histogram\n",
    "\n",
    "        Parameters\n",
    "        ----------\n",
    "        ax\n",
    "\n",
    "        Returns\n",
    "        -------\n",
    "\n",
    "        \"\"\"\n",
    "        lbp = self.calculate_LBP()\n",
    "        n_bins = int(lbp.max() + 1)\n",
    "        return ax.hist(lbp.ravel(), density=True, bins=n_bins, range=(0, n_bins),\n",
    "                       facecolor='0.5')\n",
    "\n",
    "    def set_labels(self):\n",
    "        \"\"\"\n",
    "        Create labels corresponding to ranges in histogram\n",
    "\n",
    "        Returns\n",
    "        -------\n",
    "\n",
    "        \"\"\"\n",
    "        w = self.radius - 1\n",
    "        edge_labels = range( self.n_points // 2 - w,  self.n_points // 2 + w + 1)\n",
    "        flat_labels = list(range(0, w + 1)) + list(range( self.n_points - w,  self.n_points + 2))\n",
    "        i_14 =  self.n_points // 4            # 1/4th of the histogram\n",
    "        i_34 = 3 * ( self.n_points // 4)      # 3/4th of the histogram\n",
    "        corner_labels = (list(range(i_14 - w, i_14 + w + 1)) +\n",
    "                         list(range(i_34 - w, i_34 + w + 1)))\n",
    "\n",
    "        return (edge_labels, flat_labels, corner_labels)\n",
    "\n",
    "    def plot_histogram(self):\n",
    "        \"\"\"\n",
    "        Plot histogram\n",
    "\n",
    "        Returns\n",
    "        -------\n",
    "\n",
    "        \"\"\"\n",
    "        titles = ('edge', 'flat', 'corner')\n",
    "        fig, ax_hist = plt.subplots(nrows=1, ncols=3, figsize=(9, 6))\n",
    "        plt.gray()\n",
    "        for ax, labels, name in zip(ax_hist, self.set_labels(), titles):\n",
    "            counts, _, bars = self.hist(ax)\n",
    "            self.highlight_bars(bars, labels)\n",
    "            ax.set_ylim(top=np.max(counts[:-1]))\n",
    "            ax.set_xlim(right=self.n_points + 2)\n",
    "            ax.set_title(name)\n",
    "\n",
    "        ax_hist[0].set_ylabel('Percentage')\n",
    "\n",
    "    def plot_binary_ct_scan_with_LBP_mask(self):\n",
    "        \"\"\"\n",
    "        Plot data with local binary pattern mask\n",
    "\n",
    "        Returns\n",
    "        -------\n",
    "\n",
    "        \"\"\"\n",
    "        fig, ax_img = plt.subplots(nrows=1, ncols=3, figsize=(9, 6))\n",
    "        plt.gray()\n",
    "\n",
    "        for ax, labels in zip(ax_img, self.set_labels()):\n",
    "            ax.imshow(self.overlay_labels(labels))\n",
    "        plt.show()"
   ],
   "metadata": {
    "collapsed": false,
    "pycharm": {
     "name": "#%%\n"
    }
   }
  },
  {
   "cell_type": "code",
   "execution_count": 94,
   "outputs": [
    {
     "name": "stderr",
     "output_type": "stream",
     "text": [
      "Clipping input data to the valid range for imshow with RGB data ([0..1] for floats or [0..255] for integers).\n"
     ]
    },
    {
     "name": "stdout",
     "output_type": "stream",
     "text": [
      "Slice with hemorrhage\n"
     ]
    },
    {
     "name": "stderr",
     "output_type": "stream",
     "text": [
      "Clipping input data to the valid range for imshow with RGB data ([0..1] for floats or [0..255] for integers).\n",
      "Clipping input data to the valid range for imshow with RGB data ([0..1] for floats or [0..255] for integers).\n"
     ]
    },
    {
     "data": {
      "text/plain": "<Figure size 648x432 with 3 Axes>",
      "image/png": "[encoded data removed]"
     },
     "metadata": {
      "needs_background": "light"
     },
     "output_type": "display_data"
    },
    {
     "data": {
      "text/plain": "<Figure size 648x432 with 3 Axes>",
      "image/png": "[encoded data removed]"
     },
     "metadata": {
      "needs_background": "light"
     },
     "output_type": "display_data"
    }
   ],
   "source": [
    "path_to_ct_scans = os.path.join(basePath, \"ct_scans\")\n",
    "\n",
    "# hemorrhage\n",
    "patient = 49\n",
    "slice = 14\n",
    "path_to_patient = os.path.join(path_to_ct_scans, f\"0{patient}.nii\")\n",
    "image = nib.load(path_to_patient).get_fdata()\n",
    "image_slice = image[:,:,slice-1]\n",
    "print(\"Slice with hemorrhage\")\n",
    "LocalBinaryPattern(image_slice).plot_binary_ct_scan_with_LBP_mask()\n",
    "LocalBinaryPattern(image_slice).plot_histogram()"
   ],
   "metadata": {
    "collapsed": false,
    "pycharm": {
     "name": "#%%\n"
    }
   }
  },
  {
   "cell_type": "code",
   "execution_count": 95,
   "outputs": [
    {
     "name": "stderr",
     "output_type": "stream",
     "text": [
      "Clipping input data to the valid range for imshow with RGB data ([0..1] for floats or [0..255] for integers).\n"
     ]
    },
    {
     "name": "stdout",
     "output_type": "stream",
     "text": [
      "Slice with no-hemorrhage\n"
     ]
    },
    {
     "name": "stderr",
     "output_type": "stream",
     "text": [
      "Clipping input data to the valid range for imshow with RGB data ([0..1] for floats or [0..255] for integers).\n",
      "Clipping input data to the valid range for imshow with RGB data ([0..1] for floats or [0..255] for integers).\n"
     ]
    },
    {
     "data": {
      "text/plain": "<Figure size 648x432 with 3 Axes>",
      "image/png": "[encoded data removed]"
     },
     "metadata": {
      "needs_background": "light"
     },
     "output_type": "display_data"
    },
    {
     "data": {
      "text/plain": "<Figure size 648x432 with 3 Axes>",
      "image/png": "[encoded data removed]"
     },
     "metadata": {
      "needs_background": "light"
     },
     "output_type": "display_data"
    }
   ],
   "source": [
    "# no-hemorrhage\n",
    "print(\"Slice with no-hemorrhage\")\n",
    "patient = 49\n",
    "slice = 13\n",
    "path_to_patient = os.path.join(path_to_ct_scans, f\"0{patient}.nii\")\n",
    "image = nib.load(path_to_patient).get_fdata()\n",
    "image_slice = image[:,:,slice-1]\n",
    "LocalBinaryPattern(image_slice).plot_binary_ct_scan_with_LBP_mask()\n",
    "LocalBinaryPattern(image_slice).plot_histogram()"
   ],
   "metadata": {
    "collapsed": false,
    "pycharm": {
     "name": "#%%\n"
    }
   }
  }
 ],
 "metadata": {
  "kernelspec": {
   "display_name": "Python 3",
   "language": "python",
   "name": "python3"
  },
  "language_info": {
   "codemirror_mode": {
    "name": "ipython",
    "version": 2
   },
   "file_extension": ".py",
   "mimetype": "text/x-python",
   "name": "python",
   "nbconvert_exporter": "python",
   "pygments_lexer": "ipython2",
   "version": "2.7.6"
  }
 },
 "nbformat": 4,
 "nbformat_minor": 0
}